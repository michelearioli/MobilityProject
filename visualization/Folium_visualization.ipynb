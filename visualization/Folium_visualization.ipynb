{
 "cells": [
  {
   "cell_type": "code",
   "execution_count": 1,
   "metadata": {},
   "outputs": [],
   "source": [
    "from sqlalchemy import create_engine\n",
    "import pandas as pd\n",
    "import numpy as np\n",
    "import matplotlib.pyplot as plt"
   ]
  },
  {
   "cell_type": "code",
   "execution_count": null,
   "metadata": {},
   "outputs": [],
   "source": [
    "db_user = \"\"\n",
    "db_password = \"\"\n",
    "db_host = \"\" \n",
    "db_port = \"\"  \n",
    "db_name = \"\"\n",
    "connection = f\"postgresql://{db_user}:{db_password}@{db_host}:{db_port}/{db_name}\"\n",
    "engine = create_engine(connection)"
   ]
  },
  {
   "cell_type": "code",
   "execution_count": null,
   "metadata": {},
   "outputs": [],
   "source": [
    "query= (\"\"\" SELECT \n",
    "    geom_data.layerid AS layerid, geom_data.geojson , \n",
    "    COALESCE(datavalue, 0) AS datavalue, \n",
    "    COALESCE(ni, 0) AS ni, \n",
    "    COALESCE(ns, 0) AS ns, \n",
    "    COALESCE(tb, 0) AS tb, \n",
    "    COALESCE(tc, 0) AS tc, \n",
    "    COALESCE(gm, 0) AS gm, \n",
    "    COALESCE(gf, 0) AS gf, \n",
    "    COALESCE(f1, 0) AS f1, \n",
    "    COALESCE(f2, 0) AS f2, \n",
    "    COALESCE(f3, 0) AS f3, \n",
    "    COALESCE(f4, 0) AS f4, \n",
    "    COALESCE(f5, 0) AS f5, \n",
    "    COALESCE(f6, 0) AS f6\n",
    "FROM geom_data\n",
    "LEFT JOIN (\n",
    "    SELECT \n",
    "        layerid, \n",
    "        SUM(datavalue) AS datavalue, \n",
    "        SUM(Ni) AS ni, \n",
    "        SUM(Ns) AS ns, \n",
    "        SUM(Tb) AS tb, \n",
    "        SUM(Tc) AS tc, \n",
    "        SUM(Gm) AS gm, \n",
    "        SUM(Gf) AS gf, \n",
    "        SUM(F1) AS f1, \n",
    "        SUM(F2) AS f2, \n",
    "        SUM(F3) AS f3, \n",
    "        SUM(F4) AS f4, \n",
    "        SUM(F5) AS f5, \n",
    "        SUM(F6) AS f6 \n",
    "    FROM movements \n",
    "    GROUP BY layerid\n",
    ") AS move \n",
    "ON move.layerid = geom_data.layerid;\n",
    "\"\"\")\n",
    "\n",
    "try:\n",
    "    with engine.connect() as connection:\n",
    "        chunks = pd.read_sql(query, connection, chunksize=1000) \n",
    "        df = pd.concat(chunks, ignore_index=True)  \n",
    "    print(df)\n",
    "except Exception as e:\n",
    "    print(f\"Errore durante l'esecuzione della query: {e}\")"
   ]
  },
  {
   "cell_type": "code",
   "execution_count": 4,
   "metadata": {},
   "outputs": [],
   "source": [
    "\n",
    "import folium\n",
    "import geopandas as gpd\n",
    "from shapely.geometry import shape\n",
    "df[\"id\"] = df[\"geojson\"].apply(lambda geojson: geojson['id'])\n",
    "geo = gpd.GeoDataFrame(df, geometry=df['geojson'].apply(lambda geojson: shape(geojson['geometry'])))\n",
    "geojson_data =  {\n",
    "    \"type\": \"FeatureCollection\",\n",
    "    \"features\": [{\"type\": \"Feature\", \"geometry\": geom} if geom.get(\"type\") != \"Feature\" else geom for geom in df['geojson']]\n",
    "}\n",
    "df.drop(columns=[\"geojson\",\"layerid\",\"id\"], inplace=True )\n",
    "geo=geo[geo[\"datavalue\"]!=0]\n",
    "features=df.columns.tolist()"
   ]
  },
  {
   "cell_type": "code",
   "execution_count": 5,
   "metadata": {},
   "outputs": [],
   "source": [
    "def style_function_generator(colormap, value_dict):\n",
    "    def style_function(feature):\n",
    "        id_value = feature[\"id\"]\n",
    "        return {\n",
    "            \"fillColor\": colormap(value_dict[id_value]) if id_value in value_dict else \"#000000\",\n",
    "            \"color\": \"black\",\n",
    "            \"weight\": 1,\n",
    "            \"fillOpacity\": 0.9,\n",
    "        }\n",
    "    return style_function"
   ]
  },
  {
   "cell_type": "markdown",
   "metadata": {},
   "source": [
    "Rappresentazione grafica partenze per layerid"
   ]
  },
  {
   "cell_type": "code",
   "execution_count": null,
   "metadata": {},
   "outputs": [],
   "source": [
    "from branca.colormap import linear\n",
    "m =  folium.Map()\n",
    "bounds =geo.total_bounds \n",
    "m.fit_bounds([[bounds[1], bounds[0]], [bounds[3], bounds[2]]])\n",
    "dictlist=[]\n",
    "colorlist=[\"YlGn_09\", \"BuGn_09\", \"PuBu_09\", \"OrRd_09\", \n",
    "    \"PuRd_09\", \"Blues_09\", \"Greens_09\", \"Oranges_09\", \n",
    "    \"Purples_09\", \"Reds_09\", \"BuPu_09\", \"GnBu_09\", \"YlOrRd_09\"\n",
    "]\n",
    "dizionario = {key: colorlist[i] for i, key in enumerate(features)}\n",
    "\n",
    "for f in features:\n",
    "    \n",
    "    value_dict=geo.set_index(\"id\")[f].to_dict()\n",
    "    colormap = getattr(linear, dizionario[f]).scale(geo.select_dtypes(include='number').min().min(), geo.select_dtypes(include='number').max().max())\n",
    "    print(f\"color map per la feature {f}\")\n",
    "    display(colormap)\n",
    "    folium.GeoJson(\n",
    "    geojson_data,\n",
    "    name=\"partenze \"+ f,\n",
    "    style_function=style_function_generator(colormap, value_dict),\n",
    "    ).add_to(m)\n",
    "\n",
    "folium.LayerControl().add_to(m)    \n",
    "m"
   ]
  },
  {
   "cell_type": "code",
   "execution_count": null,
   "metadata": {},
   "outputs": [],
   "source": [
    "query= (\"\"\" SELECT \n",
    "    geom_data.layerid AS toid, geom_data.geojson , \n",
    "    COALESCE(datavalue, 0) AS datavalue, \n",
    "    COALESCE(ni, 0) AS ni, \n",
    "    COALESCE(ns, 0) AS ns, \n",
    "    COALESCE(tb, 0) AS tb, \n",
    "    COALESCE(tc, 0) AS tc, \n",
    "    COALESCE(gm, 0) AS gm, \n",
    "    COALESCE(gf, 0) AS gf, \n",
    "    COALESCE(f1, 0) AS f1, \n",
    "    COALESCE(f2, 0) AS f2, \n",
    "    COALESCE(f3, 0) AS f3, \n",
    "    COALESCE(f4, 0) AS f4, \n",
    "    COALESCE(f5, 0) AS f5, \n",
    "    COALESCE(f6, 0) AS f6\n",
    "FROM geom_data\n",
    "LEFT JOIN (\n",
    "    SELECT \n",
    "        toid, \n",
    "        SUM(datavalue) AS datavalue, \n",
    "        SUM(Ni) AS ni, \n",
    "        SUM(Ns) AS ns, \n",
    "        SUM(Tb) AS tb, \n",
    "        SUM(Tc) AS tc, \n",
    "        SUM(Gm) AS gm, \n",
    "        SUM(Gf) AS gf, \n",
    "        SUM(F1) AS f1, \n",
    "        SUM(F2) AS f2, \n",
    "        SUM(F3) AS f3, \n",
    "        SUM(F4) AS f4, \n",
    "        SUM(F5) AS f5, \n",
    "        SUM(F6) AS f6 \n",
    "    FROM movements  \n",
    "    GROUP BY toid\n",
    ") AS move \n",
    "ON move.toid = geom_data.layerid;\n",
    "\"\"\")\n",
    "\n",
    "try:\n",
    "    with engine.connect() as connection:\n",
    "        chunks = pd.read_sql(query, connection, chunksize=1000)  \n",
    "        df = pd.concat(chunks, ignore_index=True) \n",
    "    print(df)\n",
    "except Exception as e:\n",
    "    print(f\"Errore durante l'esecuzione della query: {e}\")\n",
    "connection.close()"
   ]
  },
  {
   "cell_type": "code",
   "execution_count": 9,
   "metadata": {},
   "outputs": [],
   "source": [
    "df[\"id\"] = df[\"geojson\"].apply(lambda geojson: geojson['id'])\n",
    "geo = gpd.GeoDataFrame(df, geometry=df['geojson'].apply(lambda geojson: shape(geojson['geometry'])))\n",
    "df.drop(columns=[\"geojson\",\"toid\",\"id\"], inplace=True )\n",
    "geo=geo[geo[\"datavalue\"]!=0]\n",
    "features=df.columns.tolist()\n"
   ]
  },
  {
   "cell_type": "markdown",
   "metadata": {},
   "source": [
    "Rappresentazione grafica arrivi per toid"
   ]
  },
  {
   "cell_type": "code",
   "execution_count": null,
   "metadata": {},
   "outputs": [],
   "source": [
    "m =  folium.Map()\n",
    "\n",
    "m.fit_bounds([[bounds[1], bounds[0]], [bounds[3], bounds[2]]])\n",
    "\n",
    "\n",
    "for f in features:\n",
    "    value_dict=geo.set_index(\"id\")[f].to_dict()\n",
    "    colormap = getattr(linear, dizionario[f]).scale(geo.select_dtypes(include='number').min().min(), geo.select_dtypes(include='number').max().max())\n",
    "    print(f\"color map per la feature {f}\")\n",
    "    display(colormap)\n",
    "    folium.GeoJson(\n",
    "    geojson_data,\n",
    "    name=\"arrivi \"+ f,\n",
    "\n",
    "    style_function=style_function_generator(colormap, value_dict),\n",
    "    ).add_to(m)\n",
    "\n",
    "folium.LayerControl().add_to(m)    \n",
    "m"
   ]
  }
 ],
 "metadata": {
  "kernelspec": {
   "display_name": "Python [conda env:base] *",
   "language": "python",
   "name": "conda-base-py"
  },
  "language_info": {
   "codemirror_mode": {
    "name": "ipython",
    "version": 3
   },
   "file_extension": ".py",
   "mimetype": "text/x-python",
   "name": "python",
   "nbconvert_exporter": "python",
   "pygments_lexer": "ipython3",
   "version": "3.12.7"
  }
 },
 "nbformat": 4,
 "nbformat_minor": 4
}
