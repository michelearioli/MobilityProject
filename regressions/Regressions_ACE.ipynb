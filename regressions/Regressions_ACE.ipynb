{
 "cells": [
  {
   "cell_type": "code",
   "execution_count": 1,
   "metadata": {},
   "outputs": [],
   "source": [
    "from sqlalchemy import create_engine,text\n",
    "import pandas as pd\n",
    "import numpy as np\n",
    "import matplotlib.pyplot as plt"
   ]
  },
  {
   "cell_type": "code",
   "execution_count": 2,
   "metadata": {},
   "outputs": [],
   "source": [
    "db_user = \"postgres\"\n",
    "db_password = \"spotty80414\"\n",
    "db_host = \"localhost\" \n",
    "db_port = \"5432\"  \n",
    "db_name = \"project_mobility\""
   ]
  },
  {
   "cell_type": "code",
   "execution_count": 3,
   "metadata": {},
   "outputs": [],
   "source": [
    "connection = f\"postgresql://{db_user}:{db_password}@{db_host}:{db_port}/{db_name}\"\n",
    "engine = create_engine(connection)"
   ]
  },
  {
   "cell_type": "code",
   "execution_count": 4,
   "metadata": {},
   "outputs": [
    {
     "name": "stdout",
     "output_type": "stream",
     "text": [
      "               date             layerid                toid  datavalue\n",
      "0        2019-08-01  08|033|001|000|000  08|033|004|000|000         57\n",
      "1        2019-08-01  08|033|001|000|000  08|033|005|000|000         39\n",
      "2        2019-08-01  08|033|001|000|000  08|033|006|000|000        387\n",
      "3        2019-08-01  08|033|001|000|000  08|033|007|000|000          9\n",
      "4        2019-08-01  08|033|001|000|000  08|033|008|000|000         96\n",
      "...             ...                 ...                 ...        ...\n",
      "3496041  2019-09-30  08|099|027|000|000  08|099|023|000|000        216\n",
      "3496042  2019-09-30  08|099|027|000|000  08|099|024|000|000        200\n",
      "3496043  2019-09-30  08|099|027|000|000  08|099|025|000|000        264\n",
      "3496044  2019-09-30  08|099|027|000|000  08|099|026|000|000        120\n",
      "3496045  2019-09-30  08|099|027|000|000  08|099|999|000|255        241\n",
      "\n",
      "[3496046 rows x 4 columns]\n"
     ]
    }
   ],
   "source": [
    "query= text(\"\"\"SELECT DATE(datefrom) AS date, layerid, toid, SUM(datavalue) AS datavalue\n",
    "             FROM movements \n",
    "            GROUP BY date, layerid, toid ORDER BY date;\"\"\")\n",
    "try:\n",
    "    with engine.connect() as connection:\n",
    "        chunks = pd.read_sql(query, connection, chunksize=1000) \n",
    "        df = pd.concat(chunks, ignore_index=True) \n",
    "    print(df)\n",
    "except Exception as e:\n",
    "    print(f\"Errore durante l'esecuzione della query: {e}\")"
   ]
  },
  {
   "cell_type": "code",
   "execution_count": 5,
   "metadata": {},
   "outputs": [
    {
     "data": {
      "text/html": [
       "<div>\n",
       "<style scoped>\n",
       "    .dataframe tbody tr th:only-of-type {\n",
       "        vertical-align: middle;\n",
       "    }\n",
       "\n",
       "    .dataframe tbody tr th {\n",
       "        vertical-align: top;\n",
       "    }\n",
       "\n",
       "    .dataframe thead th {\n",
       "        text-align: right;\n",
       "    }\n",
       "</style>\n",
       "<table border=\"1\" class=\"dataframe\">\n",
       "  <thead>\n",
       "    <tr style=\"text-align: right;\">\n",
       "      <th></th>\n",
       "      <th>date</th>\n",
       "      <th>layerid</th>\n",
       "      <th>toid</th>\n",
       "      <th>datavalue</th>\n",
       "      <th>weekday</th>\n",
       "      <th>week</th>\n",
       "      <th>weekend</th>\n",
       "    </tr>\n",
       "  </thead>\n",
       "  <tbody>\n",
       "    <tr>\n",
       "      <th>0</th>\n",
       "      <td>1564617600000000000</td>\n",
       "      <td>0</td>\n",
       "      <td>3</td>\n",
       "      <td>57</td>\n",
       "      <td>3</td>\n",
       "      <td>0</td>\n",
       "      <td>0</td>\n",
       "    </tr>\n",
       "    <tr>\n",
       "      <th>1</th>\n",
       "      <td>1564617600000000000</td>\n",
       "      <td>0</td>\n",
       "      <td>4</td>\n",
       "      <td>39</td>\n",
       "      <td>3</td>\n",
       "      <td>0</td>\n",
       "      <td>0</td>\n",
       "    </tr>\n",
       "    <tr>\n",
       "      <th>2</th>\n",
       "      <td>1564617600000000000</td>\n",
       "      <td>0</td>\n",
       "      <td>5</td>\n",
       "      <td>387</td>\n",
       "      <td>3</td>\n",
       "      <td>0</td>\n",
       "      <td>0</td>\n",
       "    </tr>\n",
       "    <tr>\n",
       "      <th>3</th>\n",
       "      <td>1564617600000000000</td>\n",
       "      <td>0</td>\n",
       "      <td>6</td>\n",
       "      <td>9</td>\n",
       "      <td>3</td>\n",
       "      <td>0</td>\n",
       "      <td>0</td>\n",
       "    </tr>\n",
       "    <tr>\n",
       "      <th>4</th>\n",
       "      <td>1564617600000000000</td>\n",
       "      <td>0</td>\n",
       "      <td>7</td>\n",
       "      <td>96</td>\n",
       "      <td>3</td>\n",
       "      <td>0</td>\n",
       "      <td>0</td>\n",
       "    </tr>\n",
       "    <tr>\n",
       "      <th>...</th>\n",
       "      <td>...</td>\n",
       "      <td>...</td>\n",
       "      <td>...</td>\n",
       "      <td>...</td>\n",
       "      <td>...</td>\n",
       "      <td>...</td>\n",
       "      <td>...</td>\n",
       "    </tr>\n",
       "    <tr>\n",
       "      <th>3496041</th>\n",
       "      <td>1569801600000000000</td>\n",
       "      <td>465</td>\n",
       "      <td>462</td>\n",
       "      <td>216</td>\n",
       "      <td>0</td>\n",
       "      <td>9</td>\n",
       "      <td>0</td>\n",
       "    </tr>\n",
       "    <tr>\n",
       "      <th>3496042</th>\n",
       "      <td>1569801600000000000</td>\n",
       "      <td>465</td>\n",
       "      <td>463</td>\n",
       "      <td>200</td>\n",
       "      <td>0</td>\n",
       "      <td>9</td>\n",
       "      <td>0</td>\n",
       "    </tr>\n",
       "    <tr>\n",
       "      <th>3496043</th>\n",
       "      <td>1569801600000000000</td>\n",
       "      <td>465</td>\n",
       "      <td>464</td>\n",
       "      <td>264</td>\n",
       "      <td>0</td>\n",
       "      <td>9</td>\n",
       "      <td>0</td>\n",
       "    </tr>\n",
       "    <tr>\n",
       "      <th>3496044</th>\n",
       "      <td>1569801600000000000</td>\n",
       "      <td>465</td>\n",
       "      <td>465</td>\n",
       "      <td>120</td>\n",
       "      <td>0</td>\n",
       "      <td>9</td>\n",
       "      <td>0</td>\n",
       "    </tr>\n",
       "    <tr>\n",
       "      <th>3496045</th>\n",
       "      <td>1569801600000000000</td>\n",
       "      <td>465</td>\n",
       "      <td>467</td>\n",
       "      <td>241</td>\n",
       "      <td>0</td>\n",
       "      <td>9</td>\n",
       "      <td>0</td>\n",
       "    </tr>\n",
       "  </tbody>\n",
       "</table>\n",
       "<p>3496046 rows × 7 columns</p>\n",
       "</div>"
      ],
      "text/plain": [
       "                        date  layerid  toid  datavalue  weekday  week  weekend\n",
       "0        1564617600000000000        0     3         57        3     0        0\n",
       "1        1564617600000000000        0     4         39        3     0        0\n",
       "2        1564617600000000000        0     5        387        3     0        0\n",
       "3        1564617600000000000        0     6          9        3     0        0\n",
       "4        1564617600000000000        0     7         96        3     0        0\n",
       "...                      ...      ...   ...        ...      ...   ...      ...\n",
       "3496041  1569801600000000000      465   462        216        0     9        0\n",
       "3496042  1569801600000000000      465   463        200        0     9        0\n",
       "3496043  1569801600000000000      465   464        264        0     9        0\n",
       "3496044  1569801600000000000      465   465        120        0     9        0\n",
       "3496045  1569801600000000000      465   467        241        0     9        0\n",
       "\n",
       "[3496046 rows x 7 columns]"
      ]
     },
     "execution_count": 5,
     "metadata": {},
     "output_type": "execute_result"
    }
   ],
   "source": [
    "from sklearn.preprocessing import LabelEncoder\n",
    "df[\"date\"] = pd.to_datetime(df[\"date\"], format=\"%Y-%m-%d\")\n",
    "df[\"weekday\"] = df[\"date\"].dt.weekday\n",
    "df[\"week\"] = df[\"date\"].dt.isocalendar().week - df[\"date\"].dt.isocalendar().week.min()\n",
    "df['weekend'] = df['weekday'].apply(lambda w: 1  if (w == 5 or w == 6) else 0)\n",
    "df[\"date\"] = df['date'].astype('int64')\n",
    "label_encoder = LabelEncoder()\n",
    "df['layerid'] = label_encoder.fit_transform(df['layerid'])\n",
    "df['toid'] = label_encoder.fit_transform(df['toid'])\n",
    "df"
   ]
  },
  {
   "cell_type": "code",
   "execution_count": 6,
   "metadata": {},
   "outputs": [],
   "source": [
    "X = df.drop(['datavalue'],axis='columns')\n",
    "y = df['datavalue']"
   ]
  },
  {
   "cell_type": "code",
   "execution_count": 7,
   "metadata": {},
   "outputs": [],
   "source": [
    "from sklearn.model_selection import train_test_split\n",
    "X_train, X_test, y_train, y_test = train_test_split(X, y, test_size=0.3)"
   ]
  },
  {
   "cell_type": "markdown",
   "metadata": {},
   "source": [
    "Random Forest"
   ]
  },
  {
   "cell_type": "code",
   "execution_count": null,
   "metadata": {},
   "outputs": [
    {
     "name": "stdout",
     "output_type": "stream",
     "text": [
      "*** Random Forest ***\n"
     ]
    }
   ],
   "source": [
    "from sklearn.ensemble import RandomForestRegressor\n",
    "from sklearn.metrics import mean_absolute_error, mean_absolute_percentage_error\n",
    "\n",
    "print(\"*** Random Forest ***\")\n",
    "Model_RF = RandomForestRegressor()\n",
    "Model_RF.fit(X_train, y_train)\n",
    "y_pred_RF = Model_RF.predict(X_test)\n",
    "\n",
    "print('MAE =', mean_absolute_error(y_test, y_pred_RF))\n",
    "print('MAPE =', mean_absolute_percentage_error(y_test, y_pred_RF)*100 ,'%')\n",
    "MAPE_RF = mean_absolute_percentage_error(y_test, y_pred_RF)*100\n",
    "plt.scatter(y_test, y_pred_RF)\n",
    "plt.show()"
   ]
  },
  {
   "cell_type": "code",
   "execution_count": null,
   "metadata": {},
   "outputs": [],
   "source": [
    "indici = np.arange(100)\n",
    "plt.figure(figsize=(10, 6))\n",
    "plt.bar(indici, y_test[:100], label='y_test', color='red', alpha = 0.5)\n",
    "plt.bar(indici, y_pred_RF[:100], label='y_pred', color='blue', alpha = 0.5)\n",
    "plt.xlabel('record')\n",
    "plt.ylabel('datavalue')\n",
    "plt.title('Random Forest: confronto tra y_test e y_pred')\n",
    "plt.legend()\n",
    "plt.show()"
   ]
  },
  {
   "cell_type": "markdown",
   "metadata": {},
   "source": [
    "K-Nearest Neighbors"
   ]
  },
  {
   "cell_type": "code",
   "execution_count": null,
   "metadata": {},
   "outputs": [],
   "source": [
    "from sklearn.model_selection import  GridSearchCV\n",
    "from sklearn.preprocessing import MinMaxScaler\n",
    "from sklearn.feature_selection import SelectKBest, f_regression\n",
    "from sklearn.neighbors import KNeighborsRegressor"
   ]
  },
  {
   "cell_type": "markdown",
   "metadata": {},
   "source": [
    "k = 5"
   ]
  },
  {
   "cell_type": "code",
   "execution_count": null,
   "metadata": {},
   "outputs": [],
   "source": [
    "selector1 = SelectKBest(score_func=f_regression, k=5)\n",
    "X_train_selected1 = selector1.fit_transform(X_train, y_train)\n",
    "X_test_selected1 = selector1.transform(X_test)\n",
    "\n",
    "y_train_scaled_KNN1 = np.log1p(y_train)\n",
    "y_test_scaled_KNN1 = np.log1p(y_test)\n",
    "scaler = MinMaxScaler()\n",
    "X_train_scaled_KNN1 = scaler.fit_transform(X_train_selected1)\n",
    "X_test_scaled_KNN1 = scaler.transform(X_test_selected1)\n",
    "\n"
   ]
  },
  {
   "cell_type": "code",
   "execution_count": null,
   "metadata": {},
   "outputs": [],
   "source": [
    "print(\"*** K-Nearest Neighbors ***\")\n",
    "Model_KNN1 = KNeighborsRegressor(\n",
    "    n_neighbors=  3,\n",
    "    weights= 'distance',\n",
    "    metric='manhattan'\n",
    ")\n",
    "\n",
    "Model_KNN1.fit(X_train_scaled_KNN1, y_train_scaled_KNN1)\n",
    "y_pred_KNN1 = Model_KNN1.predict(X_test_scaled_KNN1)\n",
    "\n",
    "y_pred_KNN1 = np.expm1(y_pred_KNN1)\n",
    "y_test = np.expm1(y_test_scaled_KNN1)\n",
    "\n",
    "print('MAE =', mean_absolute_error(y_test, y_pred_KNN1))\n",
    "print('MAPE =',mean_absolute_percentage_error(y_test, y_pred_KNN1)*100,'%')\n",
    "MAPE_KNN1 = mean_absolute_percentage_error(y_test, y_pred_KNN1)*100\n",
    "plt.scatter(y_test, y_pred_KNN1)\n",
    "plt.show()"
   ]
  },
  {
   "cell_type": "code",
   "execution_count": null,
   "metadata": {},
   "outputs": [],
   "source": [
    "indici = np.arange(100)\n",
    "plt.figure(figsize=(10, 6))\n",
    "plt.bar(indici, y_test[:100], label='y_test', color='red', alpha = 0.5)\n",
    "plt.bar(indici, y_pred_KNN1[:100], label='y_pred', color='blue', alpha = 0.5)\n",
    "plt.xlabel('record')\n",
    "plt.ylabel('datavalue')\n",
    "plt.title('K-Nearest Neighbors: confronto tra y_test e y_pred')\n",
    "plt.legend()\n",
    "plt.show()"
   ]
  },
  {
   "cell_type": "markdown",
   "metadata": {},
   "source": [
    "k=3"
   ]
  },
  {
   "cell_type": "code",
   "execution_count": null,
   "metadata": {},
   "outputs": [],
   "source": [
    "selector2 = SelectKBest(score_func=f_regression, k=3)\n",
    "X_train_selected2 = selector2.fit_transform(X_train, y_train)\n",
    "X_test_selected2 = selector2.transform(X_test)\n",
    "\n",
    "y_train_scaled_KNN2 = np.log1p(y_train)\n",
    "y_test_scaled_KNN2 = np.log1p(y_test)\n",
    "scaler = MinMaxScaler()\n",
    "X_train_scaled_KNN2 = scaler.fit_transform(X_train_selected2)\n",
    "X_test_scaled_KNN2 = scaler.transform(X_test_selected2)\n"
   ]
  },
  {
   "cell_type": "code",
   "execution_count": null,
   "metadata": {},
   "outputs": [],
   "source": [
    "print(\"*** K-Nearest Neighbors ***\")\n",
    "Model_KNN2 = KNeighborsRegressor(\n",
    "    n_neighbors=  3,\n",
    "    weights= 'distance',\n",
    "    metric='manhattan'\n",
    ")\n",
    "\n",
    "Model_KNN2.fit(X_train_scaled_KNN2, y_train_scaled_KNN2)\n",
    "y_pred_KNN2 = Model_KNN2.predict(X_test_scaled_KNN2)\n",
    "\n",
    "y_pred_KNN2 = np.expm1(y_pred_KNN2)\n",
    "y_test = np.expm1(y_test_scaled_KNN2)\n",
    "\n",
    "print('MAE =', mean_absolute_error(y_test, y_pred_KNN2))\n",
    "print('MAPE =',mean_absolute_percentage_error(y_test, y_pred_KNN2)*100,'%')\n",
    "MAPE_KNN2 = mean_absolute_percentage_error(y_test, y_pred_KNN2)*100\n",
    "plt.scatter(y_test, y_pred_KNN2)\n",
    "plt.show()"
   ]
  },
  {
   "cell_type": "code",
   "execution_count": null,
   "metadata": {},
   "outputs": [],
   "source": [
    "indici = np.arange(100)\n",
    "plt.figure(figsize=(10, 6))\n",
    "plt.bar(indici, y_test[:100], label='y_test', color='red', alpha = 0.5)\n",
    "plt.bar(indici, y_pred_KNN2[:100], label='y_pred', color='blue', alpha = 0.5)\n",
    "plt.xlabel('record')\n",
    "plt.ylabel('datavalue')\n",
    "plt.title('K-Nearest Neighbors: confronto tra y_test e y_pred')\n",
    "plt.legend()\n",
    "plt.show()"
   ]
  },
  {
   "cell_type": "markdown",
   "metadata": {},
   "source": [
    "k=2"
   ]
  },
  {
   "cell_type": "code",
   "execution_count": null,
   "metadata": {},
   "outputs": [],
   "source": [
    "selector = SelectKBest(score_func=f_regression, k=2)\n",
    "X_train_selected = selector.fit_transform(X_train, y_train)\n",
    "X_test_selected = selector.transform(X_test)\n",
    "\n",
    "y_train_scaled_KNN = np.log1p(y_train)\n",
    "y_test_scaled_KNN = np.log1p(y_test)\n",
    "scaler = MinMaxScaler()\n",
    "X_train_scaled_KNN = scaler.fit_transform(X_train_selected)\n",
    "X_test_scaled_KNN = scaler.transform(X_test_selected)"
   ]
  },
  {
   "cell_type": "code",
   "execution_count": null,
   "metadata": {},
   "outputs": [],
   "source": [
    "print(\"*** K-Nearest Neighbors ***\")\n",
    "Model_KNN = KNeighborsRegressor(\n",
    "    n_neighbors=  3,\n",
    "    weights= 'distance',\n",
    "    metric='manhattan'\n",
    ")\n",
    "\n",
    "Model_KNN.fit(X_train_scaled_KNN, y_train_scaled_KNN)\n",
    "y_pred_KNN = Model_KNN.predict(X_test_scaled_KNN)\n",
    "\n",
    "y_pred_KNN = np.expm1(y_pred_KNN)\n",
    "y_test = np.expm1(y_test_scaled_KNN)\n",
    "\n",
    "print('MAE =', mean_absolute_error(y_test, y_pred_KNN))\n",
    "print('MAPE =',mean_absolute_percentage_error(y_test, y_pred_KNN)*100,'%')\n",
    "MAPE_KNN = mean_absolute_percentage_error(y_test, y_pred_KNN)*100\n",
    "plt.scatter(y_test, y_pred_KNN)\n",
    "plt.show()"
   ]
  },
  {
   "cell_type": "code",
   "execution_count": null,
   "metadata": {},
   "outputs": [],
   "source": [
    "indici = np.arange(100)\n",
    "plt.figure(figsize=(10, 6))\n",
    "plt.bar(indici, y_test[:100], label='y_test', color='red', alpha = 0.5)\n",
    "plt.bar(indici, y_pred_KNN[:100], label='y_pred', color='blue', alpha = 0.5)\n",
    "plt.xlabel('record')\n",
    "plt.ylabel('datavalue')\n",
    "plt.title('K-Nearest Neighbors: confronto tra y_test e y_pred')\n",
    "plt.legend()\n",
    "plt.show()"
   ]
  },
  {
   "cell_type": "markdown",
   "metadata": {},
   "source": [
    "Gradient Boosting"
   ]
  },
  {
   "cell_type": "code",
   "execution_count": null,
   "metadata": {},
   "outputs": [],
   "source": [
    "from sklearn.ensemble import GradientBoostingRegressor\n",
    "\n",
    "y_train_scaled_GB = np.log1p(y_train)\n",
    "y_test_scaled_GB = np.log1p(y_test)\n",
    "scaler = MinMaxScaler()\n",
    "X_train_scaled_GB = scaler.fit_transform(X_train)\n",
    "X_test_scaled_GB = scaler.transform(X_test)\n",
    "Model_GB = GradientBoostingRegressor(learning_rate= 0.2, max_depth= 5, n_estimators= 500)\n"
   ]
  },
  {
   "cell_type": "code",
   "execution_count": null,
   "metadata": {},
   "outputs": [],
   "source": [
    "print(\"*** Gradient Boosting ***\")\n",
    "Model_GB.fit(X_train_scaled_GB, y_train_scaled_GB)\n",
    "y_pred_GB = Model_GB.predict(X_test_scaled_GB)\n",
    "\n",
    "y_pred_GB =np.expm1(y_pred_GB)\n",
    "y_test =np.expm1(y_test_scaled_GB)\n",
    "print('MAE =', mean_absolute_error(y_test, y_pred_GB))\n",
    "print('MAPE =',mean_absolute_percentage_error(y_test, y_pred_GB)*100,'%')\n",
    "MAPE_GB = mean_absolute_percentage_error(y_test, y_pred_GB)*100\n",
    "plt.scatter(y_test, y_pred_GB)\n",
    "plt.show()"
   ]
  },
  {
   "cell_type": "code",
   "execution_count": null,
   "metadata": {},
   "outputs": [],
   "source": [
    "indici = np.arange(100)\n",
    "plt.figure(figsize=(10, 6))\n",
    "plt.bar(indici, y_test[:100], label='y_test', color='red', alpha = 0.5)\n",
    "plt.bar(indici, y_pred_GB[:100], label='y_pred', color='blue', alpha = 0.5)\n",
    "plt.xlabel('record')\n",
    "plt.ylabel('datavalue')\n",
    "plt.title('Gradient Boosting: confronto tra y_test e y_pred')\n",
    "plt.legend()\n",
    "plt.show()"
   ]
  },
  {
   "cell_type": "code",
   "execution_count": null,
   "metadata": {},
   "outputs": [],
   "source": [
    "fig, axes = plt.subplots(5, 1, figsize=(20, 10)) \n",
    "fig.suptitle('Confronto tra y_test e y_pred', fontsize=14, fontweight='bold')\n",
    "axes[0].plot(indici, y_test[:100], label='original')\n",
    "axes[0].plot(indici, y_pred_RF[:100],label='Random Forest')\n",
    "axes[0].legend()\n",
    "axes[0].plot([], [], ' ', label=f'MAPE: {MAPE_RF:.2f}')\n",
    "axes[0].legend()\n",
    "axes[1].plot(indici, y_test[:100], label='original')\n",
    "axes[1].plot(indici, y_pred_KNN[:100],label='K-Nearest Neighbors k=2')\n",
    "axes[1].plot([], [], ' ', label=f'MAPE: {MAPE_KNN:.2f}')\n",
    "axes[1].legend()\n",
    "axes[2].plot(indici, y_test[:100], label='original')\n",
    "axes[2].plot(indici, y_pred_GB[:100],label='Gradient Boosting')\n",
    "axes[2].plot([], [], ' ', label=f'MAPE: {MAPE_GB:.2f}')\n",
    "axes[2].legend()\n",
    "axes[3].plot(indici, y_test[:100], label='original')\n",
    "axes[3].plot(indici, y_pred_KNN2[:100],label='K-Nearest Neighbors k=3')\n",
    "axes[3].plot([], [], ' ', label=f'MAPE: {MAPE_KNN2:.2f}')\n",
    "axes[3].legend()\n",
    "axes[4].plot(indici, y_test[:100], label='original')\n",
    "axes[4].plot(indici, y_pred_KNN1[:100],label='K-Nearest Neighbors k=5')\n",
    "axes[4].plot([], [], ' ', label=f'MAPE: {MAPE_KNN1:.2f}')\n",
    "axes[4].legend()\n",
    "plt.show()"
   ]
  }
 ],
 "metadata": {
  "kernelspec": {
   "display_name": "Python [conda env:base] *",
   "language": "python",
   "name": "conda-base-py"
  },
  "language_info": {
   "codemirror_mode": {
    "name": "ipython",
    "version": 3
   },
   "file_extension": ".py",
   "mimetype": "text/x-python",
   "name": "python",
   "nbconvert_exporter": "python",
   "pygments_lexer": "ipython3",
   "version": "3.12.7"
  }
 },
 "nbformat": 4,
 "nbformat_minor": 4
}
