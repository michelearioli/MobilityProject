{
 "cells": [
  {
   "cell_type": "code",
   "execution_count": 3,
   "metadata": {},
   "outputs": [],
   "source": [
    "from sqlalchemy import create_engine,text\n",
    "import pandas as pd\n",
    "import numpy as np\n",
    "import matplotlib.pyplot as plt"
   ]
  },
  {
   "cell_type": "code",
   "execution_count": null,
   "metadata": {},
   "outputs": [],
   "source": [
    "db_user = \"\"\n",
    "db_password = \"\"\n",
    "db_host = \"\" \n",
    "db_port = \"\"  \n",
    "db_name = \"\""
   ]
  },
  {
   "cell_type": "code",
   "execution_count": 7,
   "metadata": {},
   "outputs": [],
   "source": [
    "connection = f\"postgresql://{db_user}:{db_password}@{db_host}:{db_port}/{db_name}\"\n",
    "engine = create_engine(connection)"
   ]
  },
  {
   "cell_type": "code",
   "execution_count": 9,
   "metadata": {},
   "outputs": [
    {
     "name": "stdout",
     "output_type": "stream",
     "text": [
      "             date                toid  datavalue\n",
      "0      2019-08-01  08|033|001|000|000       3649\n",
      "1      2019-08-01  08|033|002|000|000       7193\n",
      "2      2019-08-01  08|033|003|000|000       2245\n",
      "3      2019-08-01  08|033|004|000|000       6263\n",
      "4      2019-08-01  08|033|005|000|000       3571\n",
      "...           ...                 ...        ...\n",
      "28543  2019-09-30  08|099|024|000|000       4078\n",
      "28544  2019-09-30  08|099|025|000|000      10383\n",
      "28545  2019-09-30  08|099|026|000|000       2919\n",
      "28546  2019-09-30  08|099|027|000|000       2315\n",
      "28547  2019-09-30  08|099|999|000|255      55142\n",
      "\n",
      "[28548 rows x 3 columns]\n"
     ]
    }
   ],
   "source": [
    "query= text(\"SELECT DATE(datefrom) AS date, toid, SUM(datavalue) AS datavalue FROM movements GROUP BY date, toid ORDER BY date;\")\n",
    "try:\n",
    "    with engine.connect() as connection:\n",
    "        chunks = pd.read_sql(query, connection, chunksize=1000) \n",
    "        df = pd.concat(chunks, ignore_index=True) \n",
    "    print(df)\n",
    "except Exception as e:\n",
    "    print(f\"Errore durante l'esecuzione della query: {e}\")"
   ]
  },
  {
   "cell_type": "code",
   "execution_count": 11,
   "metadata": {},
   "outputs": [
    {
     "data": {
      "text/html": [
       "<div>\n",
       "<style scoped>\n",
       "    .dataframe tbody tr th:only-of-type {\n",
       "        vertical-align: middle;\n",
       "    }\n",
       "\n",
       "    .dataframe tbody tr th {\n",
       "        vertical-align: top;\n",
       "    }\n",
       "\n",
       "    .dataframe thead th {\n",
       "        text-align: right;\n",
       "    }\n",
       "</style>\n",
       "<table border=\"1\" class=\"dataframe\">\n",
       "  <thead>\n",
       "    <tr style=\"text-align: right;\">\n",
       "      <th></th>\n",
       "      <th>date</th>\n",
       "      <th>toid</th>\n",
       "      <th>datavalue</th>\n",
       "      <th>weekday</th>\n",
       "      <th>week</th>\n",
       "      <th>weekend</th>\n",
       "    </tr>\n",
       "  </thead>\n",
       "  <tbody>\n",
       "    <tr>\n",
       "      <th>0</th>\n",
       "      <td>2019-08-01</td>\n",
       "      <td>0</td>\n",
       "      <td>3649</td>\n",
       "      <td>3</td>\n",
       "      <td>0</td>\n",
       "      <td>0</td>\n",
       "    </tr>\n",
       "    <tr>\n",
       "      <th>1</th>\n",
       "      <td>2019-08-01</td>\n",
       "      <td>1</td>\n",
       "      <td>7193</td>\n",
       "      <td>3</td>\n",
       "      <td>0</td>\n",
       "      <td>0</td>\n",
       "    </tr>\n",
       "    <tr>\n",
       "      <th>2</th>\n",
       "      <td>2019-08-01</td>\n",
       "      <td>2</td>\n",
       "      <td>2245</td>\n",
       "      <td>3</td>\n",
       "      <td>0</td>\n",
       "      <td>0</td>\n",
       "    </tr>\n",
       "    <tr>\n",
       "      <th>3</th>\n",
       "      <td>2019-08-01</td>\n",
       "      <td>3</td>\n",
       "      <td>6263</td>\n",
       "      <td>3</td>\n",
       "      <td>0</td>\n",
       "      <td>0</td>\n",
       "    </tr>\n",
       "    <tr>\n",
       "      <th>4</th>\n",
       "      <td>2019-08-01</td>\n",
       "      <td>4</td>\n",
       "      <td>3571</td>\n",
       "      <td>3</td>\n",
       "      <td>0</td>\n",
       "      <td>0</td>\n",
       "    </tr>\n",
       "    <tr>\n",
       "      <th>...</th>\n",
       "      <td>...</td>\n",
       "      <td>...</td>\n",
       "      <td>...</td>\n",
       "      <td>...</td>\n",
       "      <td>...</td>\n",
       "      <td>...</td>\n",
       "    </tr>\n",
       "    <tr>\n",
       "      <th>28543</th>\n",
       "      <td>2019-09-30</td>\n",
       "      <td>463</td>\n",
       "      <td>4078</td>\n",
       "      <td>0</td>\n",
       "      <td>9</td>\n",
       "      <td>0</td>\n",
       "    </tr>\n",
       "    <tr>\n",
       "      <th>28544</th>\n",
       "      <td>2019-09-30</td>\n",
       "      <td>464</td>\n",
       "      <td>10383</td>\n",
       "      <td>0</td>\n",
       "      <td>9</td>\n",
       "      <td>0</td>\n",
       "    </tr>\n",
       "    <tr>\n",
       "      <th>28545</th>\n",
       "      <td>2019-09-30</td>\n",
       "      <td>465</td>\n",
       "      <td>2919</td>\n",
       "      <td>0</td>\n",
       "      <td>9</td>\n",
       "      <td>0</td>\n",
       "    </tr>\n",
       "    <tr>\n",
       "      <th>28546</th>\n",
       "      <td>2019-09-30</td>\n",
       "      <td>466</td>\n",
       "      <td>2315</td>\n",
       "      <td>0</td>\n",
       "      <td>9</td>\n",
       "      <td>0</td>\n",
       "    </tr>\n",
       "    <tr>\n",
       "      <th>28547</th>\n",
       "      <td>2019-09-30</td>\n",
       "      <td>467</td>\n",
       "      <td>55142</td>\n",
       "      <td>0</td>\n",
       "      <td>9</td>\n",
       "      <td>0</td>\n",
       "    </tr>\n",
       "  </tbody>\n",
       "</table>\n",
       "<p>28548 rows × 6 columns</p>\n",
       "</div>"
      ],
      "text/plain": [
       "            date  toid  datavalue  weekday  week  weekend\n",
       "0     2019-08-01     0       3649        3     0        0\n",
       "1     2019-08-01     1       7193        3     0        0\n",
       "2     2019-08-01     2       2245        3     0        0\n",
       "3     2019-08-01     3       6263        3     0        0\n",
       "4     2019-08-01     4       3571        3     0        0\n",
       "...          ...   ...        ...      ...   ...      ...\n",
       "28543 2019-09-30   463       4078        0     9        0\n",
       "28544 2019-09-30   464      10383        0     9        0\n",
       "28545 2019-09-30   465       2919        0     9        0\n",
       "28546 2019-09-30   466       2315        0     9        0\n",
       "28547 2019-09-30   467      55142        0     9        0\n",
       "\n",
       "[28548 rows x 6 columns]"
      ]
     },
     "execution_count": 11,
     "metadata": {},
     "output_type": "execute_result"
    }
   ],
   "source": [
    "from sklearn.preprocessing import LabelEncoder\n",
    "df[\"date\"] = pd.to_datetime(df[\"date\"], format=\"%Y-%m-%d\")\n",
    "df[\"weekday\"] = df[\"date\"].dt.weekday\n",
    "df[\"week\"] = df[\"date\"].dt.isocalendar().week - df[\"date\"].dt.isocalendar().week.min()\n",
    "df['weekend'] = df['weekday'].apply(lambda w: 1  if (w == 5 or w == 6) else 0)\n",
    "#df[\"date\"] = df['date'].astype('int64')\n",
    "label_encoder = LabelEncoder()\n",
    "df['toid'] = label_encoder.fit_transform(df['toid'])\n",
    "df"
   ]
  },
  {
   "cell_type": "code",
   "execution_count": 22,
   "metadata": {},
   "outputs": [],
   "source": [
    "from sklearn.model_selection import train_test_split\n",
    "\n",
    "# Estrai giorni unici \n",
    "unique_days = df['date'].unique()\n",
    "\n",
    "# Split dei giorni\n",
    "train_days, test_days = train_test_split(unique_days, test_size=0.3)\n",
    "\n",
    "# Filtra righe \n",
    "train_df = df[df['date'].isin(train_days)].copy()\n",
    "test_df = df[df['date'].isin(test_days)].copy()\n",
    "\n",
    "# Conversione numerica della data \n",
    "train_df['date'] = train_df['date'].astype('int64')\n",
    "test_df['date'] = test_df['date'].astype('int64')\n",
    "\n",
    "# Separazione X e y\n",
    "X_train = train_df.drop(['datavalue'], axis='columns')\n",
    "y_train = train_df['datavalue']\n",
    "X_test = test_df.drop(['datavalue'], axis='columns')\n",
    "y_test = test_df['datavalue']"
   ]
  },
  {
   "cell_type": "code",
   "execution_count": 24,
   "metadata": {},
   "outputs": [],
   "source": [
    "from sklearn.model_selection import  GridSearchCV\n",
    "from sklearn.preprocessing import MinMaxScaler\n"
   ]
  },
  {
   "cell_type": "markdown",
   "metadata": {},
   "source": [
    "Gradient Boosting"
   ]
  },
  {
   "cell_type": "code",
   "execution_count": 27,
   "metadata": {},
   "outputs": [
    {
     "name": "stdout",
     "output_type": "stream",
     "text": [
      "Fitting 3 folds for each of 27 candidates, totalling 81 fits\n",
      "Migliori parametri trovati: {'learning_rate': 0.2, 'max_depth': 7, 'n_estimators': 500}\n"
     ]
    }
   ],
   "source": [
    "from sklearn.ensemble import GradientBoostingRegressor\n",
    "from sklearn.metrics import mean_absolute_error, mean_absolute_percentage_error\n",
    "\n",
    "y_train_scaled_GB = np.log1p(y_train)\n",
    "y_test_scaled_GB = np.log1p(y_test)\n",
    "scaler = MinMaxScaler()\n",
    "X_train_scaled_GB = scaler.fit_transform(X_train)\n",
    "X_test_scaled_GB = scaler.transform(X_test)\n",
    "\n",
    "Model_GB = GradientBoostingRegressor()\n",
    "param_grid = {\n",
    "    'n_estimators': [100, 300, 500],  \n",
    "    'learning_rate': [0.01, 0.1, 0.2],  \n",
    "    'max_depth': [3, 5, 7]  \n",
    "}\n",
    "\n",
    "grid_search = GridSearchCV(estimator=Model_GB, param_grid=param_grid, cv=3, n_jobs=-1, verbose=1)\n",
    "grid_search.fit(X_train_scaled_GB, y_train_scaled_GB)\n",
    "print(\"Migliori parametri trovati:\", grid_search.best_params_)"
   ]
  },
  {
   "cell_type": "code",
   "execution_count": 28,
   "metadata": {},
   "outputs": [
    {
     "name": "stdout",
     "output_type": "stream",
     "text": [
      "*** Gradient Boosting ***\n",
      "MAE = 968.6212221158813\n",
      "MAPE = 8.921001621253538 %\n"
     ]
    },
    {
     "data": {
      "image/png": "[encoded data removed]",
      "text/plain": [
       "<Figure size 640x480 with 1 Axes>"
      ]
     },
     "metadata": {},
     "output_type": "display_data"
    }
   ],
   "source": [
    "print(\"*** Gradient Boosting ***\")\n",
    "best_model = grid_search.best_estimator_\n",
    "y_pred_GB = best_model.predict(X_test_scaled_GB)\n",
    "\n",
    "y_pred_GB =np.expm1(y_pred_GB)\n",
    "y_test =np.expm1(y_test_scaled_GB)\n",
    "print('MAE =', mean_absolute_error(y_test, y_pred_GB))\n",
    "print('MAPE =',mean_absolute_percentage_error(y_test, y_pred_GB)*100,'%')\n",
    "MAPE_GB = mean_absolute_percentage_error(y_test, y_pred_GB)*100\n",
    "plt.scatter(y_test, y_pred_GB)\n",
    "plt.show()"
   ]
  },
  {
   "cell_type": "code",
   "execution_count": 31,
   "metadata": {},
   "outputs": [
    {
     "data": {
      "text/plain": [
       "['label_encoder.pkl']"
      ]
     },
     "execution_count": 31,
     "metadata": {},
     "output_type": "execute_result"
    }
   ],
   "source": [
    "import joblib\n",
    "\n",
    "# Salvataggio del modello\n",
    "joblib.dump(best_model, \"mobility_model.pkl\")\n",
    "\n",
    "# Salvataggio dello scaler usato prima del training\n",
    "joblib.dump(scaler, \"scaler.pkl\")\n",
    "\n",
    "# Salvataggio del label encoder \n",
    "joblib.dump(label_encoder, \"label_encoder.pkl\")  \n"
   ]
  },
  {
   "cell_type": "code",
   "execution_count": null,
   "metadata": {},
   "outputs": [],
   "source": []
  }
 ],
 "metadata": {
  "kernelspec": {
   "display_name": "Python [conda env:base] *",
   "language": "python",
   "name": "conda-base-py"
  },
  "language_info": {
   "codemirror_mode": {
    "name": "ipython",
    "version": 3
   },
   "file_extension": ".py",
   "mimetype": "text/x-python",
   "name": "python",
   "nbconvert_exporter": "python",
   "pygments_lexer": "ipython3",
   "version": "3.12.7"
  }
 },
 "nbformat": 4,
 "nbformat_minor": 4
}
